{
  "nbformat": 4,
  "nbformat_minor": 0,
  "metadata": {
    "colab": {
      "name": "digit-recogniser.ipynb",
      "version": "0.3.2",
      "provenance": [],
      "collapsed_sections": []
    },
    "kernelspec": {
      "name": "python3",
      "display_name": "Python 3"
    }
  },
  "cells": [
    {
      "metadata": {
        "id": "dp1QsqYCZden",
        "colab_type": "code",
        "outputId": "556727f2-210f-4fb0-91a2-12bc11aeccae",
        "colab": {
          "base_uri": "https://localhost:8080/",
          "height": 399
        }
      },
      "cell_type": "code",
      "source": [
        "!pip install torch\n",
        "!pip install torchvision"
      ],
      "execution_count": 1,
      "outputs": [
        {
          "output_type": "stream",
          "text": [
            "Collecting torch\n",
            "\u001b[?25l  Downloading https://files.pythonhosted.org/packages/7e/60/66415660aa46b23b5e1b72bc762e816736ce8d7260213e22365af51e8f9c/torch-1.0.0-cp36-cp36m-manylinux1_x86_64.whl (591.8MB)\n",
            "\u001b[K    100% |████████████████████████████████| 591.8MB 26kB/s \n",
            "tcmalloc: large alloc 1073750016 bytes == 0x618e8000 @  0x7f3b167ff2a4 0x591a07 0x5b5d56 0x502e9a 0x506859 0x502209 0x502f3d 0x506859 0x504c28 0x502540 0x502f3d 0x506859 0x504c28 0x502540 0x502f3d 0x506859 0x504c28 0x502540 0x502f3d 0x507641 0x502209 0x502f3d 0x506859 0x504c28 0x502540 0x502f3d 0x507641 0x504c28 0x502540 0x502f3d 0x507641\n",
            "\u001b[?25hInstalling collected packages: torch\n",
            "Successfully installed torch-1.0.0\n",
            "Collecting torchvision\n",
            "\u001b[?25l  Downloading https://files.pythonhosted.org/packages/ca/0d/f00b2885711e08bd71242ebe7b96561e6f6d01fdb4b9dcf4d37e2e13c5e1/torchvision-0.2.1-py2.py3-none-any.whl (54kB)\n",
            "\u001b[K    100% |████████████████████████████████| 61kB 4.3MB/s \n",
            "\u001b[?25hCollecting pillow>=4.1.1 (from torchvision)\n",
            "\u001b[?25l  Downloading https://files.pythonhosted.org/packages/85/5e/e91792f198bbc5a0d7d3055ad552bc4062942d27eaf75c3e2783cf64eae5/Pillow-5.4.1-cp36-cp36m-manylinux1_x86_64.whl (2.0MB)\n",
            "\u001b[K    100% |████████████████████████████████| 2.0MB 14.2MB/s \n",
            "\u001b[?25hRequirement already satisfied: torch in /usr/local/lib/python3.6/dist-packages (from torchvision) (1.0.0)\n",
            "Requirement already satisfied: numpy in /usr/local/lib/python3.6/dist-packages (from torchvision) (1.14.6)\n",
            "Requirement already satisfied: six in /usr/local/lib/python3.6/dist-packages (from torchvision) (1.11.0)\n",
            "Installing collected packages: pillow, torchvision\n",
            "  Found existing installation: Pillow 4.0.0\n",
            "    Uninstalling Pillow-4.0.0:\n",
            "      Successfully uninstalled Pillow-4.0.0\n",
            "Successfully installed pillow-5.4.1 torchvision-0.2.1\n"
          ],
          "name": "stdout"
        }
      ]
    },
    {
      "metadata": {
        "id": "9mRanYx4aMYh",
        "colab_type": "text"
      },
      "cell_type": "markdown",
      "source": [
        "# Reconising Handwritten-Digits\n",
        "\n",
        "In this notebook I build a simple neural network with multiple layer perceptron that will take \n",
        "an image of a handwritten digit and predict what exactly is the number.\n",
        "I use MNIST dataset which contains 60,000 images of handwritten-digits for training and 10,000 images for testing. The images\n",
        "are grayscale and of size 28x28 pixels.\n",
        "\n",
        "I will use PyTorch  to build the model. \n",
        "It is a new framework for deep learning that was introduced in the early 2017.\n",
        "However, even though PyTorch is quite new in compare to TensorFlow, Caffe2 or CNTK,  it has already a pretty big impact in the deep learning community.\n",
        "\n",
        "## Data Loading\n",
        "In the following, I first import PyTorch and load the MNIST dataset which is available in the `torchvision` package. I  then load the dataset using `Dataloader`, a nice module to load  dataset available in PyTorch."
      ]
    },
    {
      "metadata": {
        "id": "uLsUobAqjym7",
        "colab_type": "code",
        "colab": {}
      },
      "cell_type": "code",
      "source": [
        "import torch\n",
        "from torchvision import datasets, transforms\n",
        "\n",
        "# Define a transform to normalize the data\n",
        "transform = transforms.Compose([transforms.ToTensor(),\n",
        "                                transforms.Normalize((0.5, 0.5, 0.5), (0.5, 0.5, 0.5)),\n",
        "                              ])\n",
        "# Download and load the training data\n",
        "trainset = datasets.MNIST('~/.pytorch/MNIST_data/', download=True, train=True, transform=transform)\n",
        "trainloader = torch.utils.data.DataLoader(trainset, batch_size=64, shuffle=True)\n",
        "\n",
        "# Download and load the test data\n",
        "testset = datasets.MNIST('~/.pytorch/MNIST_data/', download=True, train=False, transform=transform)\n",
        "testloader = torch.utils.data.DataLoader(testset, batch_size=1000, shuffle=False)"
      ],
      "execution_count": 0,
      "outputs": []
    },
    {
      "metadata": {
        "id": "u3XArDgfJ_bK",
        "colab_type": "code",
        "colab": {
          "base_uri": "https://localhost:8080/",
          "height": 35
        },
        "outputId": "4fa274fb-f02f-4b2f-9994-f60d6d9edbf1"
      },
      "cell_type": "code",
      "source": [
        "len(trainloader.dataset)"
      ],
      "execution_count": 7,
      "outputs": [
        {
          "output_type": "execute_result",
          "data": {
            "text/plain": [
              "60000"
            ]
          },
          "metadata": {
            "tags": []
          },
          "execution_count": 7
        }
      ]
    },
    {
      "metadata": {
        "id": "kFW3jFcLMBAf",
        "colab_type": "code",
        "colab": {
          "base_uri": "https://localhost:8080/",
          "height": 35
        },
        "outputId": "08c08020-f50d-4cc4-f80f-6441e75fc830"
      },
      "cell_type": "code",
      "source": [
        "len(testloader.dataset)"
      ],
      "execution_count": 8,
      "outputs": [
        {
          "output_type": "execute_result",
          "data": {
            "text/plain": [
              "10000"
            ]
          },
          "metadata": {
            "tags": []
          },
          "execution_count": 8
        }
      ]
    },
    {
      "metadata": {
        "id": "8Zp-P9lSGXx1",
        "colab_type": "text"
      },
      "cell_type": "markdown",
      "source": [
        "## Data Viewing \n",
        "Now let us look at the data. It is loaded into `trainloader` and `testloader`where  the batch size is 64 for the training  and 1000 for testing.\n",
        " The batch size basically is the number of images I get in one iteration from the data loader.\n",
        "I set the shuffle mode for the training data to be true and for the testing data to be false.\n",
        "Basically, by setting the shuffle mode to true, the \n",
        " dataset will get shuffled   every time I start going through the data loader again. \n",
        " \n",
        "Now I grab the first batch in the testloader to check out the data. \n",
        "I first make an iterator with `iter(testloader)` which I will loop later for testing. \n",
        "As it is shown below, the first batch is just a tensor with size (1000, 1, 28, 28).  It means we have 1000  images in the batch where each image has 1 color channel (since it is a grayscale) and the size of each image is 28x28 pixels. \n"
      ]
    },
    {
      "metadata": {
        "id": "MPPkHgUrGAJL",
        "colab_type": "code",
        "outputId": "1a1a35a8-fbed-4f1e-ce57-bdcf2e68dae2",
        "colab": {
          "base_uri": "https://localhost:8080/",
          "height": 71
        }
      },
      "cell_type": "code",
      "source": [
        "dataiter = iter(testloader)\n",
        "images, labels = dataiter.next()\n",
        "print(type(images))\n",
        "print(images.shape)\n",
        "print(labels.shape)"
      ],
      "execution_count": 25,
      "outputs": [
        {
          "output_type": "stream",
          "text": [
            "<class 'torch.Tensor'>\n",
            "torch.Size([1000, 1, 28, 28])\n",
            "torch.Size([1000])\n"
          ],
          "name": "stdout"
        }
      ]
    },
    {
      "metadata": {
        "id": "z2dCzzbkK8S1",
        "colab_type": "text"
      },
      "cell_type": "markdown",
      "source": [
        "By using matplotlib, I can  show how the images look like.   I plot the first 6 images from the first batch together withs their label."
      ]
    },
    {
      "metadata": {
        "id": "pj8MBGyDK8qC",
        "colab_type": "code",
        "outputId": "814477a1-88ec-425c-9eb3-74a8b4de885d",
        "colab": {
          "base_uri": "https://localhost:8080/",
          "height": 384
        }
      },
      "cell_type": "code",
      "source": [
        "import matplotlib.pyplot as plt\n",
        "\n",
        "fig = plt.figure()\n",
        "for i in range(6):\n",
        "  plt.subplot(2,3,i+1)\n",
        "  plt.tight_layout()\n",
        "  plt.imshow(images[i][0], cmap='gray', interpolation='none')\n",
        "  plt.title(\"{}\".format(labels[i]))\n",
        "  plt.xticks([])\n",
        "  plt.yticks([])"
      ],
      "execution_count": 26,
      "outputs": [
        {
          "output_type": "display_data",
          "data": {
            "image/png": "[encoded data removed]",
            "text/plain": [
              "<matplotlib.figure.Figure at 0x7f7682226198>"
            ]
          },
          "metadata": {
            "tags": []
          }
        }
      ]
    },
    {
      "metadata": {
        "id": "wmw7lt6tOdVs",
        "colab_type": "text"
      },
      "cell_type": "markdown",
      "source": [
        "## Building the Model\n",
        "\n",
        "I will build a model by using a simple neural network with two (fully-connected)  hidden layers.\n",
        "Beside the hidden layers, the model also has an input and output layers.\n",
        "I will make the model to have 784 units in the input layer. This is because we will consider a grayscale image with 28x28 pixels as an input.\n",
        "For the output layer I consider 10 units. This is because I want the model to predict the digit shown in the input image, i.e.\n",
        "whether it is $0, 1, \\ldots, 9$.\n",
        "The model will calculate probabilities of the image being in each of these classes. For the hidden layers, I set the first one to have 128 units\n",
        "and 64 units for the second one.\n",
        "\n",
        "For the activation function I choose rectified linear units (or ReLU in short) and I will not use any dropout layer. \n",
        "\n",
        "In PyTorch it is very handy to build a neural network. We can use `nn`\n",
        " module  that provides an efficient way to build large neural networks. \n",
        " It also automatically initializes the weights and biases of the network.\n",
        "\n",
        "Since the tensor will be passed sequentially through the layers, I  use `nn.Sequential` as follows.\n",
        " "
      ]
    },
    {
      "metadata": {
        "id": "1ynLEHbOP3jr",
        "colab_type": "code",
        "colab": {}
      },
      "cell_type": "code",
      "source": [
        "from torch import nn\n",
        "model = nn.Sequential(nn.Linear(784, 128),\n",
        "                      nn.ReLU(),\n",
        "                      nn.Linear(128, 64),\n",
        "                      nn.ReLU(),\n",
        "                      nn.Linear(64, 10),\n",
        "                      nn.LogSoftmax(dim=1))"
      ],
      "execution_count": 0,
      "outputs": []
    },
    {
      "metadata": {
        "id": "YKCrsnxpWnyJ",
        "colab_type": "text"
      },
      "cell_type": "markdown",
      "source": [
        "So I have build the model I want. The model will output  the log-probabilities of the input images being $0, 1, \\ldots, 9$. \n",
        "Now let us see what happens if I pass an image to this model.\n",
        "I will take the first image on the first batch I have considered before. However, since I have created a model that \n",
        "takes as an input image, a one dimension tensor, i.e.\n",
        "1 x 784, I need todo some preprocessing. This is because the images I have considered before are still two dimension tensors of size 28 x 28. \n"
      ]
    },
    {
      "metadata": {
        "id": "A7Z46re8Wm9E",
        "colab_type": "code",
        "outputId": "334ad1a3-ce7f-4f5d-d8a4-9c5621b369a4",
        "colab": {
          "base_uri": "https://localhost:8080/",
          "height": 53
        }
      },
      "cell_type": "code",
      "source": [
        "images.resize_(64, 1, 784) # resize images into a one dimension vector  \n",
        "output = model.forward(images[0,:]) # output of the network \n",
        "ps = torch.exp(output)  # get the probability of the image being 0,1,...,9\n",
        "\n",
        "ps"
      ],
      "execution_count": 35,
      "outputs": [
        {
          "output_type": "execute_result",
          "data": {
            "text/plain": [
              "tensor([[0.1064, 0.1128, 0.1088, 0.0876, 0.0873, 0.1222, 0.1060, 0.0819, 0.0937,\n",
              "         0.0933]], grad_fn=<ExpBackward>)"
            ]
          },
          "metadata": {
            "tags": []
          },
          "execution_count": 35
        }
      ]
    },
    {
      "metadata": {
        "id": "NsL_dY6hXDnC",
        "colab_type": "text"
      },
      "cell_type": "markdown",
      "source": [
        "To see this more clearly,  I create a function to display the image and probablities."
      ]
    },
    {
      "metadata": {
        "id": "XY6jTLQOW4Xr",
        "colab_type": "code",
        "outputId": "fb8ad363-fb81-4815-8f94-b5fc75ad9958",
        "colab": {
          "base_uri": "https://localhost:8080/",
          "height": 242
        }
      },
      "cell_type": "code",
      "source": [
        "import matplotlib.pyplot as plt\n",
        "import numpy as np\n",
        "\n",
        "def view_probs(img, ps):\n",
        "    ps = ps.data.numpy().squeeze()\n",
        "\n",
        "    fig, (ax1, ax2) = plt.subplots(figsize=(6,9), ncols=2)\n",
        "    ax1.imshow(img.resize_(1, 28, 28).numpy().squeeze(), cmap='gray')\n",
        "    ax1.axis('off')\n",
        "    ax2.barh(np.arange(10), ps)\n",
        "    ax2.set_aspect(0.1)\n",
        "    ax2.set_yticks(np.arange(10))\n",
        "    ax2.set_yticklabels(np.arange(10))\n",
        "    ax2.set_title('Class Probability')\n",
        "    ax2.set_xlim(0, 1.1)\n",
        "    \n",
        "    plt.tight_layout()\n",
        "\n",
        "\n",
        "img = images[0]\n",
        "view_probs(img.view(1, 28, 28), ps)\n",
        "    "
      ],
      "execution_count": 29,
      "outputs": [
        {
          "output_type": "display_data",
          "data": {
            "image/png": "[encoded data removed]",
            "text/plain": [
              "<matplotlib.figure.Figure at 0x7f76817784a8>"
            ]
          },
          "metadata": {
            "tags": []
          }
        }
      ]
    },
    {
      "metadata": {
        "id": "Wj5Bm4MxZMT0",
        "colab_type": "text"
      },
      "cell_type": "markdown",
      "source": [
        "As it is shown, the model was all over the classes with its predictions.\n",
        "It has no idea what this digit is. \n",
        "This is because I have not  trained the model yet, so all the weights are random!"
      ]
    },
    {
      "metadata": {
        "id": "Nuxd2VARWUix",
        "colab_type": "text"
      },
      "cell_type": "markdown",
      "source": [
        "## Training the Model\n",
        "\n",
        "Now let us train the model. First I initialize the criterion and the optimizer that I will use for the training.\n",
        " I will train the network for 5 epochs. In other words,  it will see  the training dataset five times."
      ]
    },
    {
      "metadata": {
        "id": "44gQy1ZFWDVY",
        "colab_type": "code",
        "colab": {}
      },
      "cell_type": "code",
      "source": [
        "criterion = nn.NLLLoss()\n",
        "\n",
        "from torch import optim\n",
        "optimizer = optim.SGD(model.parameters(), lr=0.003)\n",
        "\n",
        "n_epochs = 5\n",
        "\n",
        "# create list for saving training and testing loss\n",
        "train_losses = []\n",
        "train_counter = []\n",
        "test_losses = []\n",
        "test_counter = [i*len(trainloader.dataset) for i in range(n_epochs + 1)]"
      ],
      "execution_count": 0,
      "outputs": []
    },
    {
      "metadata": {
        "id": "qFeOF2hsRK9o",
        "colab_type": "text"
      },
      "cell_type": "markdown",
      "source": [
        "I check the initial testing loss before the model is being trained, and then train for 5 epochs."
      ]
    },
    {
      "metadata": {
        "id": "qXQWljsSRJoU",
        "colab_type": "code",
        "colab": {
          "base_uri": "https://localhost:8080/",
          "height": 71
        },
        "outputId": "10a189bd-4469-49ba-aced-a59a1e0bc27c"
      },
      "cell_type": "code",
      "source": [
        "valid_loss = 0\n",
        "correct = 0\n",
        "model.eval()\n",
        "for data, target in testloader:\n",
        "  # forward pass: compute predicted outputs by passing inputs to the model\n",
        "  data= data.view(data.shape[0], -1)\n",
        "  out = model(data)\n",
        "  # calculate the batch loss\n",
        "  vloss = criterion(out, target)\n",
        "  # update average validation loss \n",
        "  valid_loss += vloss.item()*data.size(0)\n",
        "  pred = out.data.max(1, keepdim=True)[1]\n",
        "  correct += pred.eq(target.data.view_as(pred)).sum()\n",
        "else:\n",
        "  test_losses.append(valid_loss/len(testloader.dataset))\n",
        "  print(f\"Test loss: {valid_loss/len(testloader.dataset)}\")\n",
        "  print('Accuracy: {}/{} ({:.0f}%)\\n'.format(\n",
        "    correct, len(testloader.dataset),\n",
        "    100. * correct / len(testloader.dataset)))"
      ],
      "execution_count": 37,
      "outputs": [
        {
          "output_type": "stream",
          "text": [
            "Test loss: 2.317572832107544\n",
            "Accuracy: 1042/10000 (10%)\n",
            "\n"
          ],
          "name": "stdout"
        }
      ]
    },
    {
      "metadata": {
        "id": "MqIBh-UPdhbE",
        "colab_type": "code",
        "outputId": "cad8be06-d3c2-441d-c64b-49657f344d4d",
        "colab": {
          "base_uri": "https://localhost:8080/",
          "height": 8787
        }
      },
      "cell_type": "code",
      "source": [
        "for e in range(1, n_epochs+1):\n",
        "    batch_idx = 0\n",
        "    running_loss = 0\n",
        "    valid_loss = 0\n",
        "    log_interval = 10\n",
        "    correct = 10\n",
        "    \n",
        "# TRAINING THE MODEL\n",
        "    model.train()\n",
        "    for images, labels in trainloader:\n",
        "        # Flatten MNIST images into a 784 long vector\n",
        "        images = images.view(images.shape[0], -1)\n",
        "        \n",
        "        batch_idx += 1 \n",
        "    \n",
        "        # Training pass\n",
        "        optimizer.zero_grad()\n",
        "        \n",
        "        output = model(images)\n",
        "        loss = criterion(output, labels)\n",
        "        loss.backward()\n",
        "        optimizer.step()\n",
        "        \n",
        "        running_loss += loss.item()\n",
        "        \n",
        "        if batch_idx % log_interval == 0:\n",
        "           print('Train Epoch: {} [{}/{} ({:.0f}%)]\\tLoss: {:.6f}'.format(e, batch_idx * len(images), len(trainloader.dataset), 100. * batch_idx / len(trainloader), loss.item()))\n",
        "           train_losses.append(loss.item())\n",
        "           train_counter.append((batch_idx*64) + ((e-1)*len(trainloader.dataset)))\n",
        "    else:\n",
        "        print(f\"Training loss: {running_loss/len(trainloader)}\") \n",
        "\n",
        "# VALIDATING THE MODEL       \n",
        "    model.eval()\n",
        "    for data, target in testloader: \n",
        "        # forward pass: compute predicted outputs by passing inputs to the model\n",
        "        data= data.view(data.shape[0], -1)\n",
        "        out = model(data)\n",
        "        # calculate the batch loss\n",
        "        vloss = criterion(out, target)\n",
        "        # update average validation loss \n",
        "        valid_loss += vloss.item()*data.size(0)\n",
        "        # keep track accuracy \n",
        "        pred = out.data.max(1, keepdim=True)[1]\n",
        "        correct += pred.eq(target.data.view_as(pred)).sum()\n",
        "    else:\n",
        "        test_losses.append(valid_loss/len(testloader.dataset))\n",
        "        print(f\"Test loss: {valid_loss/len(testloader.dataset)}\")\n",
        "        print('Accuracy: {}/{} ({:.0f}%)\\n'.format(\n",
        "            correct, len(testloader.dataset),\n",
        "            100. * correct / len(testloader.dataset)))"
      ],
      "execution_count": 38,
      "outputs": [
        {
          "output_type": "stream",
          "text": [
            "Train Epoch: 1 [640/60000 (1%)]\tLoss: 2.328422\n",
            "Train Epoch: 1 [1280/60000 (2%)]\tLoss: 2.297452\n",
            "Train Epoch: 1 [1920/60000 (3%)]\tLoss: 2.287003\n",
            "Train Epoch: 1 [2560/60000 (4%)]\tLoss: 2.311182\n",
            "Train Epoch: 1 [3200/60000 (5%)]\tLoss: 2.288502\n",
            "Train Epoch: 1 [3840/60000 (6%)]\tLoss: 2.284679\n",
            "Train Epoch: 1 [4480/60000 (7%)]\tLoss: 2.290592\n",
            "Train Epoch: 1 [5120/60000 (9%)]\tLoss: 2.276944\n",
            "Train Epoch: 1 [5760/60000 (10%)]\tLoss: 2.273907\n",
            "Train Epoch: 1 [6400/60000 (11%)]\tLoss: 2.272866\n",
            "Train Epoch: 1 [7040/60000 (12%)]\tLoss: 2.255389\n",
            "Train Epoch: 1 [7680/60000 (13%)]\tLoss: 2.284495\n",
            "Train Epoch: 1 [8320/60000 (14%)]\tLoss: 2.257609\n",
            "Train Epoch: 1 [8960/60000 (15%)]\tLoss: 2.244691\n",
            "Train Epoch: 1 [9600/60000 (16%)]\tLoss: 2.244327\n",
            "Train Epoch: 1 [10240/60000 (17%)]\tLoss: 2.231143\n",
            "Train Epoch: 1 [10880/60000 (18%)]\tLoss: 2.263639\n",
            "Train Epoch: 1 [11520/60000 (19%)]\tLoss: 2.230108\n",
            "Train Epoch: 1 [12160/60000 (20%)]\tLoss: 2.206795\n",
            "Train Epoch: 1 [12800/60000 (21%)]\tLoss: 2.216717\n",
            "Train Epoch: 1 [13440/60000 (22%)]\tLoss: 2.206986\n",
            "Train Epoch: 1 [14080/60000 (23%)]\tLoss: 2.202945\n",
            "Train Epoch: 1 [14720/60000 (25%)]\tLoss: 2.231882\n",
            "Train Epoch: 1 [15360/60000 (26%)]\tLoss: 2.199058\n",
            "Train Epoch: 1 [16000/60000 (27%)]\tLoss: 2.203553\n",
            "Train Epoch: 1 [16640/60000 (28%)]\tLoss: 2.176607\n",
            "Train Epoch: 1 [17280/60000 (29%)]\tLoss: 2.175684\n",
            "Train Epoch: 1 [17920/60000 (30%)]\tLoss: 2.186644\n",
            "Train Epoch: 1 [18560/60000 (31%)]\tLoss: 2.128584\n",
            "Train Epoch: 1 [19200/60000 (32%)]\tLoss: 2.173428\n",
            "Train Epoch: 1 [19840/60000 (33%)]\tLoss: 2.147495\n",
            "Train Epoch: 1 [20480/60000 (34%)]\tLoss: 2.133996\n",
            "Train Epoch: 1 [21120/60000 (35%)]\tLoss: 2.103404\n",
            "Train Epoch: 1 [21760/60000 (36%)]\tLoss: 2.091064\n",
            "Train Epoch: 1 [22400/60000 (37%)]\tLoss: 2.129172\n",
            "Train Epoch: 1 [23040/60000 (38%)]\tLoss: 2.118058\n",
            "Train Epoch: 1 [23680/60000 (39%)]\tLoss: 2.121397\n",
            "Train Epoch: 1 [24320/60000 (41%)]\tLoss: 2.085260\n",
            "Train Epoch: 1 [24960/60000 (42%)]\tLoss: 2.082286\n",
            "Train Epoch: 1 [25600/60000 (43%)]\tLoss: 2.120331\n",
            "Train Epoch: 1 [26240/60000 (44%)]\tLoss: 2.035755\n",
            "Train Epoch: 1 [26880/60000 (45%)]\tLoss: 2.121563\n",
            "Train Epoch: 1 [27520/60000 (46%)]\tLoss: 2.052433\n",
            "Train Epoch: 1 [28160/60000 (47%)]\tLoss: 2.035352\n",
            "Train Epoch: 1 [28800/60000 (48%)]\tLoss: 2.056009\n",
            "Train Epoch: 1 [29440/60000 (49%)]\tLoss: 2.025429\n",
            "Train Epoch: 1 [30080/60000 (50%)]\tLoss: 2.037907\n",
            "Train Epoch: 1 [30720/60000 (51%)]\tLoss: 2.036098\n",
            "Train Epoch: 1 [31360/60000 (52%)]\tLoss: 2.083893\n",
            "Train Epoch: 1 [32000/60000 (53%)]\tLoss: 1.977889\n",
            "Train Epoch: 1 [32640/60000 (54%)]\tLoss: 1.957505\n",
            "Train Epoch: 1 [33280/60000 (55%)]\tLoss: 1.973378\n",
            "Train Epoch: 1 [33920/60000 (57%)]\tLoss: 2.000854\n",
            "Train Epoch: 1 [34560/60000 (58%)]\tLoss: 1.981577\n",
            "Train Epoch: 1 [35200/60000 (59%)]\tLoss: 1.901181\n",
            "Train Epoch: 1 [35840/60000 (60%)]\tLoss: 1.849210\n",
            "Train Epoch: 1 [36480/60000 (61%)]\tLoss: 1.885700\n",
            "Train Epoch: 1 [37120/60000 (62%)]\tLoss: 1.834060\n",
            "Train Epoch: 1 [37760/60000 (63%)]\tLoss: 1.848376\n",
            "Train Epoch: 1 [38400/60000 (64%)]\tLoss: 1.925713\n",
            "Train Epoch: 1 [39040/60000 (65%)]\tLoss: 1.909013\n",
            "Train Epoch: 1 [39680/60000 (66%)]\tLoss: 1.931063\n",
            "Train Epoch: 1 [40320/60000 (67%)]\tLoss: 1.888069\n",
            "Train Epoch: 1 [40960/60000 (68%)]\tLoss: 1.790660\n",
            "Train Epoch: 1 [41600/60000 (69%)]\tLoss: 1.745270\n",
            "Train Epoch: 1 [42240/60000 (70%)]\tLoss: 1.874956\n",
            "Train Epoch: 1 [42880/60000 (71%)]\tLoss: 1.760170\n",
            "Train Epoch: 1 [43520/60000 (72%)]\tLoss: 1.767020\n",
            "Train Epoch: 1 [44160/60000 (74%)]\tLoss: 1.731006\n",
            "Train Epoch: 1 [44800/60000 (75%)]\tLoss: 1.791658\n",
            "Train Epoch: 1 [45440/60000 (76%)]\tLoss: 1.753002\n",
            "Train Epoch: 1 [46080/60000 (77%)]\tLoss: 1.715876\n",
            "Train Epoch: 1 [46720/60000 (78%)]\tLoss: 1.741733\n",
            "Train Epoch: 1 [47360/60000 (79%)]\tLoss: 1.776433\n",
            "Train Epoch: 1 [48000/60000 (80%)]\tLoss: 1.677299\n",
            "Train Epoch: 1 [48640/60000 (81%)]\tLoss: 1.702652\n",
            "Train Epoch: 1 [49280/60000 (82%)]\tLoss: 1.553598\n",
            "Train Epoch: 1 [49920/60000 (83%)]\tLoss: 1.613025\n",
            "Train Epoch: 1 [50560/60000 (84%)]\tLoss: 1.712672\n",
            "Train Epoch: 1 [51200/60000 (85%)]\tLoss: 1.601388\n",
            "Train Epoch: 1 [51840/60000 (86%)]\tLoss: 1.657730\n",
            "Train Epoch: 1 [52480/60000 (87%)]\tLoss: 1.437431\n",
            "Train Epoch: 1 [53120/60000 (88%)]\tLoss: 1.541753\n",
            "Train Epoch: 1 [53760/60000 (90%)]\tLoss: 1.538434\n",
            "Train Epoch: 1 [54400/60000 (91%)]\tLoss: 1.614526\n",
            "Train Epoch: 1 [55040/60000 (92%)]\tLoss: 1.535871\n",
            "Train Epoch: 1 [55680/60000 (93%)]\tLoss: 1.446575\n",
            "Train Epoch: 1 [56320/60000 (94%)]\tLoss: 1.499536\n",
            "Train Epoch: 1 [56960/60000 (95%)]\tLoss: 1.493912\n",
            "Train Epoch: 1 [57600/60000 (96%)]\tLoss: 1.478577\n",
            "Train Epoch: 1 [58240/60000 (97%)]\tLoss: 1.504963\n",
            "Train Epoch: 1 [58880/60000 (98%)]\tLoss: 1.452730\n",
            "Train Epoch: 1 [59520/60000 (99%)]\tLoss: 1.445881\n",
            "Training loss: 1.9612246567506526\n",
            "Test loss: 1.3863668322563172\n",
            "Accuracy: 6566/10000 (65%)\n",
            "\n",
            "Train Epoch: 2 [640/60000 (1%)]\tLoss: 1.587787\n",
            "Train Epoch: 2 [1280/60000 (2%)]\tLoss: 1.364238\n",
            "Train Epoch: 2 [1920/60000 (3%)]\tLoss: 1.418080\n",
            "Train Epoch: 2 [2560/60000 (4%)]\tLoss: 1.429487\n",
            "Train Epoch: 2 [3200/60000 (5%)]\tLoss: 1.400030\n",
            "Train Epoch: 2 [3840/60000 (6%)]\tLoss: 1.416755\n",
            "Train Epoch: 2 [4480/60000 (7%)]\tLoss: 1.314773\n",
            "Train Epoch: 2 [5120/60000 (9%)]\tLoss: 1.267502\n",
            "Train Epoch: 2 [5760/60000 (10%)]\tLoss: 1.353684\n",
            "Train Epoch: 2 [6400/60000 (11%)]\tLoss: 1.221792\n",
            "Train Epoch: 2 [7040/60000 (12%)]\tLoss: 1.273850\n",
            "Train Epoch: 2 [7680/60000 (13%)]\tLoss: 1.208752\n",
            "Train Epoch: 2 [8320/60000 (14%)]\tLoss: 1.232302\n",
            "Train Epoch: 2 [8960/60000 (15%)]\tLoss: 1.115106\n",
            "Train Epoch: 2 [9600/60000 (16%)]\tLoss: 1.231888\n",
            "Train Epoch: 2 [10240/60000 (17%)]\tLoss: 1.201187\n",
            "Train Epoch: 2 [10880/60000 (18%)]\tLoss: 1.157387\n",
            "Train Epoch: 2 [11520/60000 (19%)]\tLoss: 1.250030\n",
            "Train Epoch: 2 [12160/60000 (20%)]\tLoss: 1.148147\n",
            "Train Epoch: 2 [12800/60000 (21%)]\tLoss: 1.187743\n",
            "Train Epoch: 2 [13440/60000 (22%)]\tLoss: 1.075131\n",
            "Train Epoch: 2 [14080/60000 (23%)]\tLoss: 1.117189\n",
            "Train Epoch: 2 [14720/60000 (25%)]\tLoss: 1.004536\n",
            "Train Epoch: 2 [15360/60000 (26%)]\tLoss: 1.078157\n",
            "Train Epoch: 2 [16000/60000 (27%)]\tLoss: 1.114804\n",
            "Train Epoch: 2 [16640/60000 (28%)]\tLoss: 1.006503\n",
            "Train Epoch: 2 [17280/60000 (29%)]\tLoss: 1.052002\n",
            "Train Epoch: 2 [17920/60000 (30%)]\tLoss: 1.039175\n",
            "Train Epoch: 2 [18560/60000 (31%)]\tLoss: 1.034361\n",
            "Train Epoch: 2 [19200/60000 (32%)]\tLoss: 0.916671\n",
            "Train Epoch: 2 [19840/60000 (33%)]\tLoss: 1.081026\n",
            "Train Epoch: 2 [20480/60000 (34%)]\tLoss: 1.056698\n",
            "Train Epoch: 2 [21120/60000 (35%)]\tLoss: 1.254029\n",
            "Train Epoch: 2 [21760/60000 (36%)]\tLoss: 0.903730\n",
            "Train Epoch: 2 [22400/60000 (37%)]\tLoss: 1.062537\n",
            "Train Epoch: 2 [23040/60000 (38%)]\tLoss: 0.958339\n",
            "Train Epoch: 2 [23680/60000 (39%)]\tLoss: 1.186206\n",
            "Train Epoch: 2 [24320/60000 (41%)]\tLoss: 1.021408\n",
            "Train Epoch: 2 [24960/60000 (42%)]\tLoss: 0.927934\n",
            "Train Epoch: 2 [25600/60000 (43%)]\tLoss: 0.868100\n",
            "Train Epoch: 2 [26240/60000 (44%)]\tLoss: 0.987046\n",
            "Train Epoch: 2 [26880/60000 (45%)]\tLoss: 0.932846\n",
            "Train Epoch: 2 [27520/60000 (46%)]\tLoss: 0.948275\n",
            "Train Epoch: 2 [28160/60000 (47%)]\tLoss: 1.050595\n",
            "Train Epoch: 2 [28800/60000 (48%)]\tLoss: 0.975443\n",
            "Train Epoch: 2 [29440/60000 (49%)]\tLoss: 0.788123\n",
            "Train Epoch: 2 [30080/60000 (50%)]\tLoss: 0.815772\n",
            "Train Epoch: 2 [30720/60000 (51%)]\tLoss: 0.912269\n",
            "Train Epoch: 2 [31360/60000 (52%)]\tLoss: 0.933078\n",
            "Train Epoch: 2 [32000/60000 (53%)]\tLoss: 0.953056\n",
            "Train Epoch: 2 [32640/60000 (54%)]\tLoss: 0.926250\n",
            "Train Epoch: 2 [33280/60000 (55%)]\tLoss: 0.783989\n",
            "Train Epoch: 2 [33920/60000 (57%)]\tLoss: 0.783282\n",
            "Train Epoch: 2 [34560/60000 (58%)]\tLoss: 0.723540\n",
            "Train Epoch: 2 [35200/60000 (59%)]\tLoss: 0.698512\n",
            "Train Epoch: 2 [35840/60000 (60%)]\tLoss: 1.054307\n",
            "Train Epoch: 2 [36480/60000 (61%)]\tLoss: 0.906042\n",
            "Train Epoch: 2 [37120/60000 (62%)]\tLoss: 0.866792\n",
            "Train Epoch: 2 [37760/60000 (63%)]\tLoss: 0.804019\n",
            "Train Epoch: 2 [38400/60000 (64%)]\tLoss: 0.905008\n",
            "Train Epoch: 2 [39040/60000 (65%)]\tLoss: 0.857384\n",
            "Train Epoch: 2 [39680/60000 (66%)]\tLoss: 0.757441\n",
            "Train Epoch: 2 [40320/60000 (67%)]\tLoss: 0.818376\n",
            "Train Epoch: 2 [40960/60000 (68%)]\tLoss: 0.675513\n",
            "Train Epoch: 2 [41600/60000 (69%)]\tLoss: 0.833968\n",
            "Train Epoch: 2 [42240/60000 (70%)]\tLoss: 0.753934\n",
            "Train Epoch: 2 [42880/60000 (71%)]\tLoss: 0.740928\n",
            "Train Epoch: 2 [43520/60000 (72%)]\tLoss: 0.843813\n",
            "Train Epoch: 2 [44160/60000 (74%)]\tLoss: 0.895564\n",
            "Train Epoch: 2 [44800/60000 (75%)]\tLoss: 0.691815\n",
            "Train Epoch: 2 [45440/60000 (76%)]\tLoss: 0.944933\n",
            "Train Epoch: 2 [46080/60000 (77%)]\tLoss: 0.824690\n",
            "Train Epoch: 2 [46720/60000 (78%)]\tLoss: 0.590785\n",
            "Train Epoch: 2 [47360/60000 (79%)]\tLoss: 0.821244\n",
            "Train Epoch: 2 [48000/60000 (80%)]\tLoss: 0.854962\n",
            "Train Epoch: 2 [48640/60000 (81%)]\tLoss: 0.657537\n",
            "Train Epoch: 2 [49280/60000 (82%)]\tLoss: 0.782509\n",
            "Train Epoch: 2 [49920/60000 (83%)]\tLoss: 0.790490\n",
            "Train Epoch: 2 [50560/60000 (84%)]\tLoss: 0.815732\n",
            "Train Epoch: 2 [51200/60000 (85%)]\tLoss: 0.772321\n",
            "Train Epoch: 2 [51840/60000 (86%)]\tLoss: 0.649079\n",
            "Train Epoch: 2 [52480/60000 (87%)]\tLoss: 0.843048\n",
            "Train Epoch: 2 [53120/60000 (88%)]\tLoss: 0.869436\n",
            "Train Epoch: 2 [53760/60000 (90%)]\tLoss: 1.007098\n",
            "Train Epoch: 2 [54400/60000 (91%)]\tLoss: 0.708880\n",
            "Train Epoch: 2 [55040/60000 (92%)]\tLoss: 0.671787\n",
            "Train Epoch: 2 [55680/60000 (93%)]\tLoss: 0.879179\n",
            "Train Epoch: 2 [56320/60000 (94%)]\tLoss: 0.674504\n",
            "Train Epoch: 2 [56960/60000 (95%)]\tLoss: 0.756400\n",
            "Train Epoch: 2 [57600/60000 (96%)]\tLoss: 0.727376\n",
            "Train Epoch: 2 [58240/60000 (97%)]\tLoss: 0.887959\n",
            "Train Epoch: 2 [58880/60000 (98%)]\tLoss: 0.796829\n",
            "Train Epoch: 2 [59520/60000 (99%)]\tLoss: 0.687165\n",
            "Training loss: 0.9527216365914355\n",
            "Test loss: 0.6504734694957733\n",
            "Accuracy: 8336/10000 (83%)\n",
            "\n",
            "Train Epoch: 3 [640/60000 (1%)]\tLoss: 0.587929\n",
            "Train Epoch: 3 [1280/60000 (2%)]\tLoss: 0.612492\n",
            "Train Epoch: 3 [1920/60000 (3%)]\tLoss: 0.567083\n",
            "Train Epoch: 3 [2560/60000 (4%)]\tLoss: 0.617988\n",
            "Train Epoch: 3 [3200/60000 (5%)]\tLoss: 0.552446\n",
            "Train Epoch: 3 [3840/60000 (6%)]\tLoss: 0.725087\n",
            "Train Epoch: 3 [4480/60000 (7%)]\tLoss: 0.648584\n",
            "Train Epoch: 3 [5120/60000 (9%)]\tLoss: 0.705405\n",
            "Train Epoch: 3 [5760/60000 (10%)]\tLoss: 0.840527\n",
            "Train Epoch: 3 [6400/60000 (11%)]\tLoss: 0.602690\n",
            "Train Epoch: 3 [7040/60000 (12%)]\tLoss: 0.738077\n",
            "Train Epoch: 3 [7680/60000 (13%)]\tLoss: 0.638925\n",
            "Train Epoch: 3 [8320/60000 (14%)]\tLoss: 0.555134\n",
            "Train Epoch: 3 [8960/60000 (15%)]\tLoss: 0.605478\n",
            "Train Epoch: 3 [9600/60000 (16%)]\tLoss: 0.539952\n",
            "Train Epoch: 3 [10240/60000 (17%)]\tLoss: 0.560099\n",
            "Train Epoch: 3 [10880/60000 (18%)]\tLoss: 0.585583\n",
            "Train Epoch: 3 [11520/60000 (19%)]\tLoss: 0.500632\n",
            "Train Epoch: 3 [12160/60000 (20%)]\tLoss: 0.508394\n",
            "Train Epoch: 3 [12800/60000 (21%)]\tLoss: 0.696981\n",
            "Train Epoch: 3 [13440/60000 (22%)]\tLoss: 0.583830\n",
            "Train Epoch: 3 [14080/60000 (23%)]\tLoss: 0.487487\n",
            "Train Epoch: 3 [14720/60000 (25%)]\tLoss: 0.679481\n",
            "Train Epoch: 3 [15360/60000 (26%)]\tLoss: 0.708598\n",
            "Train Epoch: 3 [16000/60000 (27%)]\tLoss: 0.642926\n",
            "Train Epoch: 3 [16640/60000 (28%)]\tLoss: 0.432966\n",
            "Train Epoch: 3 [17280/60000 (29%)]\tLoss: 0.595167\n",
            "Train Epoch: 3 [17920/60000 (30%)]\tLoss: 0.572599\n",
            "Train Epoch: 3 [18560/60000 (31%)]\tLoss: 0.718462\n",
            "Train Epoch: 3 [19200/60000 (32%)]\tLoss: 0.611010\n",
            "Train Epoch: 3 [19840/60000 (33%)]\tLoss: 0.636283\n",
            "Train Epoch: 3 [20480/60000 (34%)]\tLoss: 0.732641\n",
            "Train Epoch: 3 [21120/60000 (35%)]\tLoss: 0.461154\n",
            "Train Epoch: 3 [21760/60000 (36%)]\tLoss: 0.623931\n",
            "Train Epoch: 3 [22400/60000 (37%)]\tLoss: 0.585699\n",
            "Train Epoch: 3 [23040/60000 (38%)]\tLoss: 0.485793\n",
            "Train Epoch: 3 [23680/60000 (39%)]\tLoss: 0.540284\n",
            "Train Epoch: 3 [24320/60000 (41%)]\tLoss: 0.622624\n",
            "Train Epoch: 3 [24960/60000 (42%)]\tLoss: 0.789501\n",
            "Train Epoch: 3 [25600/60000 (43%)]\tLoss: 0.656828\n",
            "Train Epoch: 3 [26240/60000 (44%)]\tLoss: 0.737737\n",
            "Train Epoch: 3 [26880/60000 (45%)]\tLoss: 0.614354\n",
            "Train Epoch: 3 [27520/60000 (46%)]\tLoss: 0.462616\n",
            "Train Epoch: 3 [28160/60000 (47%)]\tLoss: 0.741379\n",
            "Train Epoch: 3 [28800/60000 (48%)]\tLoss: 0.423288\n",
            "Train Epoch: 3 [29440/60000 (49%)]\tLoss: 0.592058\n",
            "Train Epoch: 3 [30080/60000 (50%)]\tLoss: 0.486525\n",
            "Train Epoch: 3 [30720/60000 (51%)]\tLoss: 0.753871\n",
            "Train Epoch: 3 [31360/60000 (52%)]\tLoss: 0.623503\n",
            "Train Epoch: 3 [32000/60000 (53%)]\tLoss: 0.517584\n",
            "Train Epoch: 3 [32640/60000 (54%)]\tLoss: 0.537152\n",
            "Train Epoch: 3 [33280/60000 (55%)]\tLoss: 0.856380\n",
            "Train Epoch: 3 [33920/60000 (57%)]\tLoss: 0.452844\n",
            "Train Epoch: 3 [34560/60000 (58%)]\tLoss: 0.491190\n",
            "Train Epoch: 3 [35200/60000 (59%)]\tLoss: 0.596305\n",
            "Train Epoch: 3 [35840/60000 (60%)]\tLoss: 0.473408\n",
            "Train Epoch: 3 [36480/60000 (61%)]\tLoss: 0.529914\n",
            "Train Epoch: 3 [37120/60000 (62%)]\tLoss: 0.711646\n",
            "Train Epoch: 3 [37760/60000 (63%)]\tLoss: 0.502500\n",
            "Train Epoch: 3 [38400/60000 (64%)]\tLoss: 0.515455\n",
            "Train Epoch: 3 [39040/60000 (65%)]\tLoss: 0.423858\n",
            "Train Epoch: 3 [39680/60000 (66%)]\tLoss: 0.517655\n",
            "Train Epoch: 3 [40320/60000 (67%)]\tLoss: 0.528728\n",
            "Train Epoch: 3 [40960/60000 (68%)]\tLoss: 0.390981\n",
            "Train Epoch: 3 [41600/60000 (69%)]\tLoss: 0.472955\n",
            "Train Epoch: 3 [42240/60000 (70%)]\tLoss: 0.444976\n",
            "Train Epoch: 3 [42880/60000 (71%)]\tLoss: 0.433191\n",
            "Train Epoch: 3 [43520/60000 (72%)]\tLoss: 0.583253\n",
            "Train Epoch: 3 [44160/60000 (74%)]\tLoss: 0.469505\n",
            "Train Epoch: 3 [44800/60000 (75%)]\tLoss: 0.573010\n",
            "Train Epoch: 3 [45440/60000 (76%)]\tLoss: 0.553328\n",
            "Train Epoch: 3 [46080/60000 (77%)]\tLoss: 0.548512\n",
            "Train Epoch: 3 [46720/60000 (78%)]\tLoss: 0.497466\n",
            "Train Epoch: 3 [47360/60000 (79%)]\tLoss: 0.548649\n",
            "Train Epoch: 3 [48000/60000 (80%)]\tLoss: 0.590249\n",
            "Train Epoch: 3 [48640/60000 (81%)]\tLoss: 0.537013\n",
            "Train Epoch: 3 [49280/60000 (82%)]\tLoss: 0.509586\n",
            "Train Epoch: 3 [49920/60000 (83%)]\tLoss: 0.441025\n",
            "Train Epoch: 3 [50560/60000 (84%)]\tLoss: 0.386860\n",
            "Train Epoch: 3 [51200/60000 (85%)]\tLoss: 0.527110\n",
            "Train Epoch: 3 [51840/60000 (86%)]\tLoss: 0.500593\n",
            "Train Epoch: 3 [52480/60000 (87%)]\tLoss: 0.440043\n",
            "Train Epoch: 3 [53120/60000 (88%)]\tLoss: 0.468404\n",
            "Train Epoch: 3 [53760/60000 (90%)]\tLoss: 0.442137\n",
            "Train Epoch: 3 [54400/60000 (91%)]\tLoss: 0.516846\n",
            "Train Epoch: 3 [55040/60000 (92%)]\tLoss: 0.472346\n",
            "Train Epoch: 3 [55680/60000 (93%)]\tLoss: 0.552983\n",
            "Train Epoch: 3 [56320/60000 (94%)]\tLoss: 0.677176\n",
            "Train Epoch: 3 [56960/60000 (95%)]\tLoss: 0.441955\n",
            "Train Epoch: 3 [57600/60000 (96%)]\tLoss: 0.582489\n",
            "Train Epoch: 3 [58240/60000 (97%)]\tLoss: 0.541171\n",
            "Train Epoch: 3 [58880/60000 (98%)]\tLoss: 0.398933\n",
            "Train Epoch: 3 [59520/60000 (99%)]\tLoss: 0.713731\n",
            "Training loss: 0.5563049328479686\n",
            "Test loss: 0.4623021334409714\n",
            "Accuracy: 8765/10000 (87%)\n",
            "\n",
            "Train Epoch: 4 [640/60000 (1%)]\tLoss: 0.458447\n",
            "Train Epoch: 4 [1280/60000 (2%)]\tLoss: 0.656720\n",
            "Train Epoch: 4 [1920/60000 (3%)]\tLoss: 0.484043\n",
            "Train Epoch: 4 [2560/60000 (4%)]\tLoss: 0.378430\n",
            "Train Epoch: 4 [3200/60000 (5%)]\tLoss: 0.481895\n",
            "Train Epoch: 4 [3840/60000 (6%)]\tLoss: 0.282385\n",
            "Train Epoch: 4 [4480/60000 (7%)]\tLoss: 0.437068\n",
            "Train Epoch: 4 [5120/60000 (9%)]\tLoss: 0.443144\n",
            "Train Epoch: 4 [5760/60000 (10%)]\tLoss: 0.421117\n",
            "Train Epoch: 4 [6400/60000 (11%)]\tLoss: 0.490553\n",
            "Train Epoch: 4 [7040/60000 (12%)]\tLoss: 0.468929\n",
            "Train Epoch: 4 [7680/60000 (13%)]\tLoss: 0.433435\n",
            "Train Epoch: 4 [8320/60000 (14%)]\tLoss: 0.253858\n",
            "Train Epoch: 4 [8960/60000 (15%)]\tLoss: 0.574575\n",
            "Train Epoch: 4 [9600/60000 (16%)]\tLoss: 0.623925\n",
            "Train Epoch: 4 [10240/60000 (17%)]\tLoss: 0.591660\n",
            "Train Epoch: 4 [10880/60000 (18%)]\tLoss: 0.333637\n",
            "Train Epoch: 4 [11520/60000 (19%)]\tLoss: 0.546281\n",
            "Train Epoch: 4 [12160/60000 (20%)]\tLoss: 0.449410\n",
            "Train Epoch: 4 [12800/60000 (21%)]\tLoss: 0.381264\n",
            "Train Epoch: 4 [13440/60000 (22%)]\tLoss: 0.433446\n",
            "Train Epoch: 4 [14080/60000 (23%)]\tLoss: 0.515457\n",
            "Train Epoch: 4 [14720/60000 (25%)]\tLoss: 0.356783\n",
            "Train Epoch: 4 [15360/60000 (26%)]\tLoss: 0.400658\n",
            "Train Epoch: 4 [16000/60000 (27%)]\tLoss: 0.389576\n",
            "Train Epoch: 4 [16640/60000 (28%)]\tLoss: 0.525364\n",
            "Train Epoch: 4 [17280/60000 (29%)]\tLoss: 0.582404\n",
            "Train Epoch: 4 [17920/60000 (30%)]\tLoss: 0.494949\n",
            "Train Epoch: 4 [18560/60000 (31%)]\tLoss: 0.493278\n",
            "Train Epoch: 4 [19200/60000 (32%)]\tLoss: 0.576156\n",
            "Train Epoch: 4 [19840/60000 (33%)]\tLoss: 0.351366\n",
            "Train Epoch: 4 [20480/60000 (34%)]\tLoss: 0.430411\n",
            "Train Epoch: 4 [21120/60000 (35%)]\tLoss: 0.342506\n",
            "Train Epoch: 4 [21760/60000 (36%)]\tLoss: 0.459456\n",
            "Train Epoch: 4 [22400/60000 (37%)]\tLoss: 0.368623\n",
            "Train Epoch: 4 [23040/60000 (38%)]\tLoss: 0.526759\n",
            "Train Epoch: 4 [23680/60000 (39%)]\tLoss: 0.503119\n",
            "Train Epoch: 4 [24320/60000 (41%)]\tLoss: 0.479797\n",
            "Train Epoch: 4 [24960/60000 (42%)]\tLoss: 0.482510\n",
            "Train Epoch: 4 [25600/60000 (43%)]\tLoss: 0.605377\n",
            "Train Epoch: 4 [26240/60000 (44%)]\tLoss: 0.444767\n",
            "Train Epoch: 4 [26880/60000 (45%)]\tLoss: 0.527592\n",
            "Train Epoch: 4 [27520/60000 (46%)]\tLoss: 0.539549\n",
            "Train Epoch: 4 [28160/60000 (47%)]\tLoss: 0.436731\n",
            "Train Epoch: 4 [28800/60000 (48%)]\tLoss: 0.551683\n",
            "Train Epoch: 4 [29440/60000 (49%)]\tLoss: 0.620754\n",
            "Train Epoch: 4 [30080/60000 (50%)]\tLoss: 0.409944\n",
            "Train Epoch: 4 [30720/60000 (51%)]\tLoss: 0.369820\n",
            "Train Epoch: 4 [31360/60000 (52%)]\tLoss: 0.273133\n",
            "Train Epoch: 4 [32000/60000 (53%)]\tLoss: 0.474593\n",
            "Train Epoch: 4 [32640/60000 (54%)]\tLoss: 0.284993\n",
            "Train Epoch: 4 [33280/60000 (55%)]\tLoss: 0.633958\n",
            "Train Epoch: 4 [33920/60000 (57%)]\tLoss: 0.262923\n",
            "Train Epoch: 4 [34560/60000 (58%)]\tLoss: 0.292074\n",
            "Train Epoch: 4 [35200/60000 (59%)]\tLoss: 0.442007\n",
            "Train Epoch: 4 [35840/60000 (60%)]\tLoss: 0.361017\n",
            "Train Epoch: 4 [36480/60000 (61%)]\tLoss: 0.411861\n",
            "Train Epoch: 4 [37120/60000 (62%)]\tLoss: 0.446729\n",
            "Train Epoch: 4 [37760/60000 (63%)]\tLoss: 0.379524\n",
            "Train Epoch: 4 [38400/60000 (64%)]\tLoss: 0.321148\n",
            "Train Epoch: 4 [39040/60000 (65%)]\tLoss: 0.408746\n",
            "Train Epoch: 4 [39680/60000 (66%)]\tLoss: 0.545024\n",
            "Train Epoch: 4 [40320/60000 (67%)]\tLoss: 0.451199\n",
            "Train Epoch: 4 [40960/60000 (68%)]\tLoss: 0.412050\n",
            "Train Epoch: 4 [41600/60000 (69%)]\tLoss: 0.388821\n",
            "Train Epoch: 4 [42240/60000 (70%)]\tLoss: 0.293461\n",
            "Train Epoch: 4 [42880/60000 (71%)]\tLoss: 0.458830\n",
            "Train Epoch: 4 [43520/60000 (72%)]\tLoss: 0.448380\n",
            "Train Epoch: 4 [44160/60000 (74%)]\tLoss: 0.593423\n",
            "Train Epoch: 4 [44800/60000 (75%)]\tLoss: 0.404300\n",
            "Train Epoch: 4 [45440/60000 (76%)]\tLoss: 0.555776\n",
            "Train Epoch: 4 [46080/60000 (77%)]\tLoss: 0.346409\n",
            "Train Epoch: 4 [46720/60000 (78%)]\tLoss: 0.483208\n",
            "Train Epoch: 4 [47360/60000 (79%)]\tLoss: 0.658938\n",
            "Train Epoch: 4 [48000/60000 (80%)]\tLoss: 0.420989\n",
            "Train Epoch: 4 [48640/60000 (81%)]\tLoss: 0.338640\n",
            "Train Epoch: 4 [49280/60000 (82%)]\tLoss: 0.534076\n",
            "Train Epoch: 4 [49920/60000 (83%)]\tLoss: 0.570493\n",
            "Train Epoch: 4 [50560/60000 (84%)]\tLoss: 0.530683\n",
            "Train Epoch: 4 [51200/60000 (85%)]\tLoss: 0.504005\n",
            "Train Epoch: 4 [51840/60000 (86%)]\tLoss: 0.333278\n",
            "Train Epoch: 4 [52480/60000 (87%)]\tLoss: 0.610957\n",
            "Train Epoch: 4 [53120/60000 (88%)]\tLoss: 0.569083\n",
            "Train Epoch: 4 [53760/60000 (90%)]\tLoss: 0.352093\n",
            "Train Epoch: 4 [54400/60000 (91%)]\tLoss: 0.479227\n",
            "Train Epoch: 4 [55040/60000 (92%)]\tLoss: 0.373724\n",
            "Train Epoch: 4 [55680/60000 (93%)]\tLoss: 0.432770\n",
            "Train Epoch: 4 [56320/60000 (94%)]\tLoss: 0.585550\n",
            "Train Epoch: 4 [56960/60000 (95%)]\tLoss: 0.427817\n",
            "Train Epoch: 4 [57600/60000 (96%)]\tLoss: 0.489619\n",
            "Train Epoch: 4 [58240/60000 (97%)]\tLoss: 0.301666\n",
            "Train Epoch: 4 [58880/60000 (98%)]\tLoss: 0.368283\n",
            "Train Epoch: 4 [59520/60000 (99%)]\tLoss: 0.604179\n",
            "Training loss: 0.4426537225368435\n",
            "Test loss: 0.39385640174150466\n",
            "Accuracy: 8899/10000 (88%)\n",
            "\n",
            "Train Epoch: 5 [640/60000 (1%)]\tLoss: 0.288875\n",
            "Train Epoch: 5 [1280/60000 (2%)]\tLoss: 0.470508\n",
            "Train Epoch: 5 [1920/60000 (3%)]\tLoss: 0.494315\n",
            "Train Epoch: 5 [2560/60000 (4%)]\tLoss: 0.501052\n",
            "Train Epoch: 5 [3200/60000 (5%)]\tLoss: 0.496795\n",
            "Train Epoch: 5 [3840/60000 (6%)]\tLoss: 0.609762\n",
            "Train Epoch: 5 [4480/60000 (7%)]\tLoss: 0.374449\n",
            "Train Epoch: 5 [5120/60000 (9%)]\tLoss: 0.288044\n",
            "Train Epoch: 5 [5760/60000 (10%)]\tLoss: 0.425944\n",
            "Train Epoch: 5 [6400/60000 (11%)]\tLoss: 0.410870\n",
            "Train Epoch: 5 [7040/60000 (12%)]\tLoss: 0.400504\n",
            "Train Epoch: 5 [7680/60000 (13%)]\tLoss: 0.480611\n",
            "Train Epoch: 5 [8320/60000 (14%)]\tLoss: 0.444420\n",
            "Train Epoch: 5 [8960/60000 (15%)]\tLoss: 0.503096\n",
            "Train Epoch: 5 [9600/60000 (16%)]\tLoss: 0.505981\n",
            "Train Epoch: 5 [10240/60000 (17%)]\tLoss: 0.402472\n",
            "Train Epoch: 5 [10880/60000 (18%)]\tLoss: 0.304566\n",
            "Train Epoch: 5 [11520/60000 (19%)]\tLoss: 0.533202\n",
            "Train Epoch: 5 [12160/60000 (20%)]\tLoss: 0.334203\n",
            "Train Epoch: 5 [12800/60000 (21%)]\tLoss: 0.520681\n",
            "Train Epoch: 5 [13440/60000 (22%)]\tLoss: 0.465451\n",
            "Train Epoch: 5 [14080/60000 (23%)]\tLoss: 0.483586\n",
            "Train Epoch: 5 [14720/60000 (25%)]\tLoss: 0.320222\n",
            "Train Epoch: 5 [15360/60000 (26%)]\tLoss: 0.459025\n",
            "Train Epoch: 5 [16000/60000 (27%)]\tLoss: 0.436854\n",
            "Train Epoch: 5 [16640/60000 (28%)]\tLoss: 0.395428\n",
            "Train Epoch: 5 [17280/60000 (29%)]\tLoss: 0.277014\n",
            "Train Epoch: 5 [17920/60000 (30%)]\tLoss: 0.606365\n",
            "Train Epoch: 5 [18560/60000 (31%)]\tLoss: 0.435388\n",
            "Train Epoch: 5 [19200/60000 (32%)]\tLoss: 0.424837\n",
            "Train Epoch: 5 [19840/60000 (33%)]\tLoss: 0.295512\n",
            "Train Epoch: 5 [20480/60000 (34%)]\tLoss: 0.401576\n",
            "Train Epoch: 5 [21120/60000 (35%)]\tLoss: 0.383416\n",
            "Train Epoch: 5 [21760/60000 (36%)]\tLoss: 0.389552\n",
            "Train Epoch: 5 [22400/60000 (37%)]\tLoss: 0.413030\n",
            "Train Epoch: 5 [23040/60000 (38%)]\tLoss: 0.278295\n",
            "Train Epoch: 5 [23680/60000 (39%)]\tLoss: 0.612651\n",
            "Train Epoch: 5 [24320/60000 (41%)]\tLoss: 0.552404\n",
            "Train Epoch: 5 [24960/60000 (42%)]\tLoss: 0.375876\n",
            "Train Epoch: 5 [25600/60000 (43%)]\tLoss: 0.341581\n",
            "Train Epoch: 5 [26240/60000 (44%)]\tLoss: 0.320997\n",
            "Train Epoch: 5 [26880/60000 (45%)]\tLoss: 0.537346\n",
            "Train Epoch: 5 [27520/60000 (46%)]\tLoss: 0.426966\n",
            "Train Epoch: 5 [28160/60000 (47%)]\tLoss: 0.553013\n",
            "Train Epoch: 5 [28800/60000 (48%)]\tLoss: 0.546195\n",
            "Train Epoch: 5 [29440/60000 (49%)]\tLoss: 0.349720\n",
            "Train Epoch: 5 [30080/60000 (50%)]\tLoss: 0.567037\n",
            "Train Epoch: 5 [30720/60000 (51%)]\tLoss: 0.370139\n",
            "Train Epoch: 5 [31360/60000 (52%)]\tLoss: 0.600680\n",
            "Train Epoch: 5 [32000/60000 (53%)]\tLoss: 0.253104\n",
            "Train Epoch: 5 [32640/60000 (54%)]\tLoss: 0.240956\n",
            "Train Epoch: 5 [33280/60000 (55%)]\tLoss: 0.375156\n",
            "Train Epoch: 5 [33920/60000 (57%)]\tLoss: 0.439822\n",
            "Train Epoch: 5 [34560/60000 (58%)]\tLoss: 0.346759\n",
            "Train Epoch: 5 [35200/60000 (59%)]\tLoss: 0.291076\n",
            "Train Epoch: 5 [35840/60000 (60%)]\tLoss: 0.342705\n",
            "Train Epoch: 5 [36480/60000 (61%)]\tLoss: 0.449082\n",
            "Train Epoch: 5 [37120/60000 (62%)]\tLoss: 0.426781\n",
            "Train Epoch: 5 [37760/60000 (63%)]\tLoss: 0.557132\n",
            "Train Epoch: 5 [38400/60000 (64%)]\tLoss: 0.382625\n",
            "Train Epoch: 5 [39040/60000 (65%)]\tLoss: 0.416613\n",
            "Train Epoch: 5 [39680/60000 (66%)]\tLoss: 0.423630\n",
            "Train Epoch: 5 [40320/60000 (67%)]\tLoss: 0.428213\n",
            "Train Epoch: 5 [40960/60000 (68%)]\tLoss: 0.301144\n",
            "Train Epoch: 5 [41600/60000 (69%)]\tLoss: 0.247722\n",
            "Train Epoch: 5 [42240/60000 (70%)]\tLoss: 0.330073\n",
            "Train Epoch: 5 [42880/60000 (71%)]\tLoss: 0.433744\n",
            "Train Epoch: 5 [43520/60000 (72%)]\tLoss: 0.352192\n",
            "Train Epoch: 5 [44160/60000 (74%)]\tLoss: 0.296589\n",
            "Train Epoch: 5 [44800/60000 (75%)]\tLoss: 0.432670\n",
            "Train Epoch: 5 [45440/60000 (76%)]\tLoss: 0.331685\n",
            "Train Epoch: 5 [46080/60000 (77%)]\tLoss: 0.668467\n",
            "Train Epoch: 5 [46720/60000 (78%)]\tLoss: 0.492999\n",
            "Train Epoch: 5 [47360/60000 (79%)]\tLoss: 0.370999\n",
            "Train Epoch: 5 [48000/60000 (80%)]\tLoss: 0.477998\n",
            "Train Epoch: 5 [48640/60000 (81%)]\tLoss: 0.213272\n",
            "Train Epoch: 5 [49280/60000 (82%)]\tLoss: 0.223258\n",
            "Train Epoch: 5 [49920/60000 (83%)]\tLoss: 0.261739\n",
            "Train Epoch: 5 [50560/60000 (84%)]\tLoss: 0.329991\n",
            "Train Epoch: 5 [51200/60000 (85%)]\tLoss: 0.398483\n",
            "Train Epoch: 5 [51840/60000 (86%)]\tLoss: 0.360839\n",
            "Train Epoch: 5 [52480/60000 (87%)]\tLoss: 0.309726\n",
            "Train Epoch: 5 [53120/60000 (88%)]\tLoss: 0.412393\n",
            "Train Epoch: 5 [53760/60000 (90%)]\tLoss: 0.463022\n",
            "Train Epoch: 5 [54400/60000 (91%)]\tLoss: 0.380144\n",
            "Train Epoch: 5 [55040/60000 (92%)]\tLoss: 0.460846\n",
            "Train Epoch: 5 [55680/60000 (93%)]\tLoss: 0.387127\n",
            "Train Epoch: 5 [56320/60000 (94%)]\tLoss: 0.313524\n",
            "Train Epoch: 5 [56960/60000 (95%)]\tLoss: 0.334105\n",
            "Train Epoch: 5 [57600/60000 (96%)]\tLoss: 0.457037\n",
            "Train Epoch: 5 [58240/60000 (97%)]\tLoss: 0.181279\n",
            "Train Epoch: 5 [58880/60000 (98%)]\tLoss: 0.354010\n",
            "Train Epoch: 5 [59520/60000 (99%)]\tLoss: 0.288335\n",
            "Training loss: 0.3918762614509698\n",
            "Test loss: 0.3581560805439949\n",
            "Accuracy: 8993/10000 (89%)\n",
            "\n"
          ],
          "name": "stdout"
        }
      ]
    },
    {
      "metadata": {
        "id": "oiLnPb8DazYv",
        "colab_type": "text"
      },
      "cell_type": "markdown",
      "source": [
        "Now the model has been trained. It can recognise the handwritten digit without any doubt."
      ]
    },
    {
      "metadata": {
        "id": "1SK_g5m6ax7d",
        "colab_type": "code",
        "outputId": "56fc46cd-298b-4488-b3c2-7f156431a302",
        "colab": {
          "base_uri": "https://localhost:8080/",
          "height": 242
        }
      },
      "cell_type": "code",
      "source": [
        "img = img.view(1, 784) \n",
        " \n",
        "ps_img = torch.exp(model(img))\n",
        "view_probs(img.view(1, 28, 28), ps_img)"
      ],
      "execution_count": 39,
      "outputs": [
        {
          "output_type": "display_data",
          "data": {
            "image/png": "[encoded data removed]",
            "text/plain": [
              "<matplotlib.figure.Figure at 0x7f76818cd898>"
            ]
          },
          "metadata": {
            "tags": []
          }
        }
      ]
    },
    {
      "metadata": {
        "id": "XdLKBbXLcPQ7",
        "colab_type": "text"
      },
      "cell_type": "markdown",
      "source": [
        "## Model Evaluation"
      ]
    },
    {
      "metadata": {
        "id": "Tq_q_qo6U1lN",
        "colab_type": "text"
      },
      "cell_type": "markdown",
      "source": [
        "In the beginning, as expected we only get about 10% accuracy. However  after training with  just 5 epochs  by using a very simple neural network we already managed to achieve 89% accuracy. \n",
        "\n",
        "Here I plot the training curve.  By looking at it, it seems that training the model for 5 epochs is the best thing I can do.  This is because continue training for   more epochs probably will make the model deals with overfitting issues."
      ]
    },
    {
      "metadata": {
        "id": "oPUSMXBscOgd",
        "colab_type": "code",
        "outputId": "0be27361-e67f-4f99-9e20-415f0dc701bb",
        "colab": {
          "base_uri": "https://localhost:8080/",
          "height": 379
        }
      },
      "cell_type": "code",
      "source": [
        "fig = plt.figure()\n",
        "plt.plot(train_counter, train_losses, color='blue')\n",
        "plt.scatter(test_counter, test_losses, color='red')\n",
        "plt.legend(['Train Loss','Test Loss'], loc='upper right')\n",
        "plt.xlabel('number of training examples seen')\n",
        "plt.ylabel('negative log likelihood loss')\n"
      ],
      "execution_count": 40,
      "outputs": [
        {
          "output_type": "execute_result",
          "data": {
            "text/plain": [
              "Text(0,0.5,'negative log likelihood loss')"
            ]
          },
          "metadata": {
            "tags": []
          },
          "execution_count": 40
        },
        {
          "output_type": "display_data",
          "data": {
            "image/png": "[encoded data removed]",
            "text/plain": [
              "<matplotlib.figure.Figure at 0x7f768176c668>"
            ]
          },
          "metadata": {
            "tags": []
          }
        }
      ]
    }
  ]
}